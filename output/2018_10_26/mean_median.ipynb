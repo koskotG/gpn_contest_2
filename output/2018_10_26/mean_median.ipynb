{
 "cells": [
  {
   "cell_type": "code",
   "execution_count": 1,
   "metadata": {
    "ExecuteTime": {
     "end_time": "2018-10-20T20:16:52.767348Z",
     "start_time": "2018-10-20T20:16:49.920718Z"
    }
   },
   "outputs": [],
   "source": [
    "import pandas as pd\n",
    "import numpy as np\n",
    "from sklearn.decomposition import PCA \n",
    "from sklearn.preprocessing import Imputer\n",
    "from sklearn.metrics import euclidean_distances, mean_absolute_error\n",
    "from scipy.stats import skew, norm\n",
    "from sklearn.preprocessing import StandardScaler, MinMaxScaler\n",
    "from itertools import repeat\n",
    "from os import listdir\n",
    "\n",
    "import matplotlib.pyplot as plt\n",
    "import seaborn as sns\n",
    "\n",
    "%matplotlib inline\n",
    "from matplotlib_venn import venn2, venn3\n",
    "from sklearn.preprocessing import LabelEncoder\n",
    "\n",
    "import sys\n",
    "sys.path.append('../gpn_test/crm/')\n",
    "sys.path.append('../gpn_test/oil/')\n",
    "\n",
    "import importlib\n",
    "#import CRM_base as crm\n",
    "#import fc_oil as oil"
   ]
  },
  {
   "cell_type": "code",
   "execution_count": 3,
   "metadata": {
    "ExecuteTime": {
     "end_time": "2018-10-20T20:16:53.498173Z",
     "start_time": "2018-10-20T20:16:52.792191Z"
    }
   },
   "outputs": [],
   "source": [
    "df_train = pd.read_csv('../../input/prepared_data/train_proc.csv',  \n",
    "                       parse_dates = ['Дата'])\n",
    "df_test_before = pd.read_csv('../../input/prepared_data/test_before_proc.csv',\n",
    "                             parse_dates = ['Дата'])\n",
    "df_test_after = pd.read_csv('../../input/prepared_data/test_after_proc.csv',\n",
    "                             parse_dates = ['Дата'])"
   ]
  },
  {
   "cell_type": "code",
   "execution_count": 4,
   "metadata": {
    "ExecuteTime": {
     "end_time": "2018-10-20T20:17:05.788977Z",
     "start_time": "2018-10-20T20:17:05.784373Z"
    }
   },
   "outputs": [
    {
     "name": "stdout",
     "output_type": "stream",
     "text": [
      "shape of train (15040, 86)\n",
      "shape of test before (4156, 86)\n",
      "shape of test after (240, 5)\n"
     ]
    }
   ],
   "source": [
    "train_shape = df_train.shape\n",
    "test_before_shape = df_test_before.shape\n",
    "test_after_shape = df_test_after.shape\n",
    "print('shape of train {}'.format(df_train.shape))\n",
    "print('shape of test before {}'.format(df_test_before.shape))\n",
    "print('shape of test after {}'.format(df_test_after.shape))"
   ]
  },
  {
   "cell_type": "code",
   "execution_count": 5,
   "metadata": {},
   "outputs": [],
   "source": [
    "lbl1 = LabelEncoder()\n",
    "lbl1.fit(df_train['Характер работы'].values)\n",
    "df_train['type'] = lbl1.transform(df_train['Характер работы'].values)\n",
    "df_test_before['type'] = lbl1.transform(df_test_before['Характер работы'].values)"
   ]
  },
  {
   "cell_type": "code",
   "execution_count": 6,
   "metadata": {
    "ExecuteTime": {
     "end_time": "2018-10-20T20:26:16.526371Z",
     "start_time": "2018-10-20T20:26:16.498992Z"
    }
   },
   "outputs": [],
   "source": [
    "df_test_b_ind = df_test_before.set_index(['group', 'Скважина', 'Дата'], drop=False)\n",
    "df_test_a_ind = df_test_after.set_index(['group', 'Скважина', 'Дата'], drop=False)\n",
    "df_train_ind = df_train.set_index(['group', 'Скважина', 'Дата'], drop=False)"
   ]
  },
  {
   "cell_type": "code",
   "execution_count": 7,
   "metadata": {},
   "outputs": [],
   "source": [
    "df_all = pd.concat((df_train, df_test_before), axis = 0)"
   ]
  },
  {
   "cell_type": "code",
   "execution_count": 8,
   "metadata": {},
   "outputs": [],
   "source": [
    "df_all['days_on'] = (df_all['Время работы, ч']/24)#.fillna(0)\n",
    "df_all['liq_rate'] = (df_all['Жидкость, м3']/df_all['days_on']).fillna(0)\n",
    "df_all['oil_rate'] = (df_all['Нефть, м3']/df_all['days_on']).fillna(0)\n",
    "df_all['inj_rate'] = (df_all['Закачка, м3']/df_all['days_on']).fillna(0)\n",
    "df_all['wct'] = (1 - df_all['oil_rate']/df_all['liq_rate']).fillna(0)\n",
    "df_all['well_on'] = df_all['days_on'] > 0\n",
    "\n",
    "df_all['wof'] = (df_all['liq_rate'] - df_all['oil_rate'])/df_all['oil_rate']\n",
    "df_all['oil_prod'] = df_all['oil_rate']*df_all['days_on']\n",
    "\n",
    "df_all['oil_cum'] = df_all.groupby('Скважина')['oil_prod'].cumsum()\n",
    "\n",
    "df_all['liq_prod'] = df_all['liq_rate']*df_all['days_on']\n",
    "df_all['liq_cum'] = df_all.groupby('Скважина')['liq_prod'].cumsum()\n",
    "\n",
    "df_all['inj_prod'] = df_all['inj_rate']*df_all['days_on']\n",
    "df_all['inj_cum'] = df_all.groupby('Скважина')['inj_prod'].cumsum()"
   ]
  },
  {
   "cell_type": "code",
   "execution_count": 9,
   "metadata": {},
   "outputs": [],
   "source": [
    "df_test_after['days_on'] = df_test_after['Дата'].dt.daysinmonth * 0.98\n",
    "df_test_after['inj_rate'] = df_test_after['Закачка, м3']/df_test_after['days_on']\n",
    "df_test_after['inj_prod'] = df_test_after['Закачка, м3']\n",
    "df_test_after['inj_cum'] = df_test_after.groupby('Скважина')['inj_prod'].cumsum()"
   ]
  },
  {
   "cell_type": "code",
   "execution_count": 10,
   "metadata": {},
   "outputs": [],
   "source": [
    "cols_to_use = ['Скважина', 'Дата', 'Характер работы', 'liq_rate', 'oil_rate', 'inj_rate', 'days_on', 'wct', \n",
    "               'oil_prod', 'liq_prod', 'oil_cum', 'liq_cum', 'wof', 'inj_prod', 'inj_cum', 'well_on', 'group', 'X', 'Y']\n",
    "df_crm = df_all[cols_to_use].iloc[train_shape[0]:,:]\n",
    "df_crm_plot = df_crm.copy().set_index(['group','Скважина', 'Дата'], drop=False)\n",
    "test_groups = df_crm['group'].unique().tolist()"
   ]
  },
  {
   "cell_type": "code",
   "execution_count": 11,
   "metadata": {},
   "outputs": [],
   "source": [
    "df_oil_prod_test = df_crm.loc[df_crm['Характер работы'] == 'НЕФ', ['Скважина', 'Дата', 'oil_prod']].set_index(['Дата', 'Скважина']).unstack().copy()\n",
    "df_oil_prod_test.columns = df_oil_prod_test.columns.droplevel(0)"
   ]
  },
  {
   "cell_type": "code",
   "execution_count": 13,
   "metadata": {},
   "outputs": [],
   "source": [
    "df_order = pd.read_csv('../../input/order3.csv')"
   ]
  },
  {
   "cell_type": "code",
   "execution_count": 15,
   "metadata": {},
   "outputs": [],
   "source": [
    "mean_oil_prod =df_oil_prod_test.loc[:,df_order['well']].iloc[-12:,:].mean(axis=0)\n",
    "median_oil_prod =df_oil_prod_test.loc[:,df_order['well']].iloc[-12:,:].median(axis=0)"
   ]
  },
  {
   "cell_type": "code",
   "execution_count": 16,
   "metadata": {},
   "outputs": [],
   "source": [
    "subm_mean = np.zeros((12, df_order.shape[0]))\n",
    "subm_median = np.zeros((12, df_order.shape[0]))\n",
    "for i in range(12):\n",
    "    subm_mean[i,:] = mean_oil_prod.values\n",
    "    subm_median[i,:] = median_oil_prod.values\n",
    "\n",
    "df_subm_mean = pd.DataFrame(subm_mean.T.reshape(-1,1))\n",
    "df_subm_median = pd.DataFrame(subm_median.T.reshape(-1,1))"
   ]
  },
  {
   "cell_type": "code",
   "execution_count": 18,
   "metadata": {},
   "outputs": [],
   "source": [
    "df_subm_mean.to_csv('subm_mean.csv')\n",
    "df_subm_median.to_csv('subm_median.csv')"
   ]
  },
  {
   "cell_type": "code",
   "execution_count": 197,
   "metadata": {},
   "outputs": [
    {
     "data": {
      "text/plain": [
       "2.5105585134419974"
      ]
     },
     "execution_count": 197,
     "metadata": {},
     "output_type": "execute_result"
    }
   ],
   "source": [
    "loss_oil = oil_model.get_loss(well_on_oil_train)\n",
    "loss_oil(Qoil_target_train, Qoil_pred_train)"
   ]
  },
  {
   "cell_type": "code",
   "execution_count": 196,
   "metadata": {},
   "outputs": [
    {
     "data": {
      "text/plain": [
       "1.4032383001438593"
      ]
     },
     "execution_count": 196,
     "metadata": {},
     "output_type": "execute_result"
    }
   ],
   "source": [
    "mean_absolute_error(Qoil_target_train, Qoil_pred_train)"
   ]
  }
 ],
 "metadata": {
  "kernelspec": {
   "display_name": "Python 3",
   "language": "python",
   "name": "python3"
  },
  "language_info": {
   "codemirror_mode": {
    "name": "ipython",
    "version": 3
   },
   "file_extension": ".py",
   "mimetype": "text/x-python",
   "name": "python",
   "nbconvert_exporter": "python",
   "pygments_lexer": "ipython3",
   "version": "3.6.5"
  },
  "varInspector": {
   "cols": {
    "lenName": 16,
    "lenType": 16,
    "lenVar": 40
   },
   "kernels_config": {
    "python": {
     "delete_cmd_postfix": "",
     "delete_cmd_prefix": "del ",
     "library": "var_list.py",
     "varRefreshCmd": "print(var_dic_list())"
    },
    "r": {
     "delete_cmd_postfix": ") ",
     "delete_cmd_prefix": "rm(",
     "library": "var_list.r",
     "varRefreshCmd": "cat(var_dic_list()) "
    }
   },
   "types_to_exclude": [
    "module",
    "function",
    "builtin_function_or_method",
    "instance",
    "_Feature"
   ],
   "window_display": false
  }
 },
 "nbformat": 4,
 "nbformat_minor": 2
}
