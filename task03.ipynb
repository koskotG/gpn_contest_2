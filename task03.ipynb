{
 "cells": [
  {
   "cell_type": "code",
   "execution_count": 1,
   "metadata": {},
   "outputs": [],
   "source": [
    "%matplotlib inline \n",
    "\n",
    "import numpy as np\n",
    "import pandas as pd\n",
    "import matplotlib.pyplot as plt\n",
    "\n",
    "from sklearn.metrics import mean_absolute_error as mae\n",
    "\n",
    "from sklearn.linear_model import LinearRegression, Ridge\n",
    "from sklearn.svm import SVR\n",
    "from xgboost import XGBRegressor\n",
    "from sklearn.ensemble import RandomForestRegressor\n",
    "from sklearn.preprocessing import scale\n",
    "\n",
    "from IPython.display import clear_output\n",
    "\n",
    "import structural_model"
   ]
  },
  {
   "cell_type": "code",
   "execution_count": 2,
   "metadata": {},
   "outputs": [],
   "source": [
    "before = pd.read_csv('./input/prepared_data/test_before_proc.csv')\n",
    "before = before.rename(columns={'Скважина' : 'well',\n",
    "                                'Дата' : 'date',\n",
    "                                'Нефть, т' : 'prod',\n",
    "                                'Закачка, м3' : 'inj'})\n",
    "before = before[['well', 'date', 'prod', 'inj', 'X', 'Y', 'group']]\n",
    "\n",
    "after = pd.read_csv('./input/prepared_data/test_after_proc.csv')\n",
    "after = after.rename(columns={'Скважина' : 'well',\n",
    "                                'Дата' : 'date',\n",
    "                                'Закачка, м3' : 'inj'})\n",
    "after = after[['well', 'date', 'inj', 'group']]"
   ]
  },
  {
   "cell_type": "code",
   "execution_count": 3,
   "metadata": {},
   "outputs": [],
   "source": [
    "coords = before.groupby('well')[['X', 'Y']].mean()\n",
    "prod = before[['well', 'date', 'prod']].set_index(['well', 'date']).unstack(0)\n",
    "prod.columns = prod.columns.droplevel()\n",
    "inj = before[['well', 'date', 'inj']].set_index(['well', 'date']).unstack(0)\n",
    "inj.columns = inj.columns.droplevel()\n",
    "after_inj = after[['well', 'date', 'inj']].set_index(['well', 'date']).unstack(0)\n",
    "after_inj.columns = after_inj.columns.droplevel()"
   ]
  },
  {
   "cell_type": "code",
   "execution_count": 4,
   "metadata": {},
   "outputs": [],
   "source": [
    "groups = {}\n",
    "for g in before.group.unique():\n",
    "    groups[g] = before[before.group == g].well.unique()"
   ]
  },
  {
   "cell_type": "code",
   "execution_count": 9,
   "metadata": {},
   "outputs": [
    {
     "name": "stdout",
     "output_type": "stream",
     "text": [
      "50\n"
     ]
    }
   ],
   "source": [
    "scores = structural_model.model(prod, inj, groups, SVR, SVR, \n",
    "                                {'kernel' : 'linear', 'epsilon' : 5, 'C' : 100}, \n",
    "                                {'kernel' : 'linear', 'epsilon' : 8})"
   ]
  },
  {
   "cell_type": "code",
   "execution_count": 6,
   "metadata": {},
   "outputs": [
    {
     "data": {
      "text/plain": [
       "236.11653938373868"
      ]
     },
     "execution_count": 6,
     "metadata": {},
     "output_type": "execute_result"
    }
   ],
   "source": [
    "np.mean(scores)"
   ]
  },
  {
   "cell_type": "code",
   "execution_count": 7,
   "metadata": {},
   "outputs": [
    {
     "data": {
      "text/plain": [
       "140.47307791114855"
      ]
     },
     "execution_count": 7,
     "metadata": {},
     "output_type": "execute_result"
    }
   ],
   "source": [
    "np.mean([w for i, w in enumerate(scores) if i != 9])"
   ]
  },
  {
   "cell_type": "code",
   "execution_count": 8,
   "metadata": {},
   "outputs": [
    {
     "name": "stdout",
     "output_type": "stream",
     "text": [
      "50\n"
     ]
    }
   ],
   "source": [
    "predictions = structural_model.prediction(prod, inj, after_inj, groups, SVR, SVR,\n",
    "                                         {'kernel' : 'linear', 'epsilon' : 5}, \n",
    "                                         {'kernel' : 'linear', 'epsilon' : 8})"
   ]
  },
  {
   "cell_type": "code",
   "execution_count": 10,
   "metadata": {},
   "outputs": [
    {
     "data": {
      "text/plain": [
       "0    True\n",
       "dtype: bool"
      ]
     },
     "execution_count": 10,
     "metadata": {},
     "output_type": "execute_result"
    }
   ],
   "source": [
    "preds = [s.to_dict('series') for s in list(predictions.values())]\n",
    "\n",
    "npreds = {k : v for d in preds for k, v in d.items()}\n",
    "\n",
    "order = pd.read_csv('./input/order3.csv')\n",
    "\n",
    "p = []\n",
    "for well in order.well:\n",
    "    p.append(npreds[well].values.tolist())\n",
    "\n",
    "from itertools import chain\n",
    "\n",
    "p = pd.DataFrame(list(chain(*p)))\n",
    "\n",
    "p.to_csv('./lol.csv')\n",
    "\n",
    "(p > 0).all()"
   ]
  }
 ],
 "metadata": {
  "kernelspec": {
   "display_name": "Python 3",
   "language": "python",
   "name": "python3"
  },
  "language_info": {
   "codemirror_mode": {
    "name": "ipython",
    "version": 3
   },
   "file_extension": ".py",
   "mimetype": "text/x-python",
   "name": "python",
   "nbconvert_exporter": "python",
   "pygments_lexer": "ipython3",
   "version": "3.6.3"
  }
 },
 "nbformat": 4,
 "nbformat_minor": 2
}
