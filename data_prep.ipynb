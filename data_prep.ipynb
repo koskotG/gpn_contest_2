{
 "cells": [
  {
   "cell_type": "code",
   "execution_count": 1,
   "metadata": {
    "ExecuteTime": {
     "end_time": "2018-10-20T20:16:52.767348Z",
     "start_time": "2018-10-20T20:16:49.920718Z"
    }
   },
   "outputs": [],
   "source": [
    "import pandas as pd\n",
    "import numpy as np\n",
    "from sklearn.decomposition import PCA \n",
    "from sklearn.preprocessing import Imputer\n",
    "from scipy.stats import skew, norm\n",
    "from sklearn.preprocessing import StandardScaler, MinMaxScaler\n",
    "from itertools import repeat\n",
    "from os import listdir\n",
    "\n",
    "import matplotlib.pyplot as plt\n",
    "import seaborn as sns\n",
    "\n",
    "%matplotlib inline\n",
    "from matplotlib_venn import venn2, venn3\n",
    "from sklearn.preprocessing import LabelEncoder"
   ]
  },
  {
   "cell_type": "code",
   "execution_count": 2,
   "metadata": {
    "ExecuteTime": {
     "end_time": "2018-10-20T20:16:52.782150Z",
     "start_time": "2018-10-20T20:16:52.776000Z"
    }
   },
   "outputs": [],
   "source": [
    "def conv(s):\n",
    "    if s == '':\n",
    "        return np.nan\n",
    "    return float(s.replace(',', '.'))\n",
    "\n",
    "columns_to_conv = ['Нефть, т', 'Конденсат, т', 'Приемистость, м3/сут', 'Обводненность (вес), %', 'Нефть, м3', 'Жидкость, м3', \\\n",
    "                    'Дебит конденсата', 'Добыча растворенного газа, м3', 'Дебит попутного газа, м3/сут',\n",
    "                  'Вода, т', 'Жидкость, т', 'Попутный газ, м3', 'Закачка, м3',\n",
    "       'Природный газ, м3', 'Обводненность (масса), %']\n",
    "convertors = dict(zip(columns_to_conv, repeat(conv.__call__, len(columns_to_conv))))\n",
    "\n",
    "def conv_date(x):\n",
    "    if x.day != 1:\n",
    "        return (x + pd.offsets.MonthBegin(1))\n",
    "    else:\n",
    "        return x\n",
    "\n",
    "def month_to_num(x):\n",
    "    month_dict = {'янв':'1','фев':'2','мар':'3','апр':'4','май':'5','июн':'6','июл':'7','авг':'8','сен':'9','окт':'10','ноя':'11','дек':'12'}\n",
    "    for k in month_dict.keys():\n",
    "        x = x.replace(k, month_dict[k])\n",
    "    return x"
   ]
  },
  {
   "cell_type": "code",
   "execution_count": 3,
   "metadata": {
    "ExecuteTime": {
     "end_time": "2018-10-20T20:16:53.498173Z",
     "start_time": "2018-10-20T20:16:52.792191Z"
    }
   },
   "outputs": [],
   "source": [
    "df_train = pd.read_csv('input/task_3/train.csv', header = 0 ,encoding = 'cp1251', \n",
    "                       parse_dates = ['Дата'], converters= convertors)\n",
    "df_test_before = pd.read_csv('input/task_3/test_before.csv', header = 0 ,encoding = 'cp1251', \n",
    "                             parse_dates = ['Дата'], converters= convertors)\n",
    "df_test_after = pd.read_csv('input/task_3/test_after_X.csv', header = 0 ,encoding = 'cp1251',\n",
    "                            parse_dates = ['Дата'], converters= convertors)"
   ]
  },
  {
   "cell_type": "code",
   "execution_count": 4,
   "metadata": {
    "ExecuteTime": {
     "end_time": "2018-10-20T20:16:59.134899Z",
     "start_time": "2018-10-20T20:16:59.120164Z"
    }
   },
   "outputs": [],
   "source": [
    "month_numeric_cols = ['heff', 'bo', 'kprod_calc']\n",
    "for col in month_numeric_cols:\n",
    "    df_train[col] = df_train[col].astype(str).apply(month_to_num).astype(float)\n",
    "    df_test_before[col] = df_test_before[col].astype(str).apply(month_to_num).astype(float)\n",
    "\n",
    "df_train['Характер работы'] = df_train['Характер работы'].replace({'НЕФ/НАГ': 'НАГ'})\n",
    "df_test_before['Характер работы'] = df_test_before['Характер работы'].replace({'НЕФ/НАГ': 'НАГ'})\n",
    "\n",
    "df_train['Характер работы'] = df_train['Характер работы'].fillna(method = 'ffill')\n",
    "df_test_before['Характер работы'] = df_test_before['Характер работы'].fillna(method = 'ffill')"
   ]
  },
  {
   "cell_type": "code",
   "execution_count": 5,
   "metadata": {},
   "outputs": [],
   "source": [
    "lbl1 = LabelEncoder()\n",
    "#lbl2 = LabelEncoder()\n",
    "lbl1.fit(pd.concat((df_train['group'], df_test_before['group']), axis = 0).values) \n",
    "df_train['group'] = lbl1.transform(df_train['group'].values)\n",
    "df_test_before['group'] = lbl1.transform(df_test_before['group'].values)\n",
    "df_test_after['group'] = lbl1.transform(df_test_after['group'].values)\n",
    "\n",
    "#df_train['gr'] = lbl1.transform(df_train['group'].values)\n",
    "for col in ['bo','heff', 'h_vert', 'd_nkt']:\n",
    "    well_gr = df_train.groupby('Скважина')[col].mean()\n",
    "    df_train[col] =  df_train.set_index('Скважина')[col].fillna(well_gr).reset_index()[col]\n",
    "    well_gr = df_test_before.groupby('Скважина')[col].mean()\n",
    "    df_test_before[col] =  df_test_before.set_index('Скважина')[col].fillna(well_gr).reset_index()[col]"
   ]
  },
  {
   "cell_type": "code",
   "execution_count": 6,
   "metadata": {},
   "outputs": [],
   "source": [
    "df_train.to_csv('./input/prepared_data/train_proc.csv', index=False)\n",
    "df_test_before.to_csv('./input/prepared_data/test_before_proc.csv', index=False)\n",
    "df_test_after.to_csv('./input/prepared_data/test_after_proc.csv', index=False)"
   ]
  },
  {
   "cell_type": "code",
   "execution_count": null,
   "metadata": {},
   "outputs": [],
   "source": []
  }
 ],
 "metadata": {
  "kernelspec": {
   "display_name": "Python 3",
   "language": "python",
   "name": "python3"
  },
  "language_info": {
   "codemirror_mode": {
    "name": "ipython",
    "version": 3
   },
   "file_extension": ".py",
   "mimetype": "text/x-python",
   "name": "python",
   "nbconvert_exporter": "python",
   "pygments_lexer": "ipython3",
   "version": "3.6.5"
  },
  "varInspector": {
   "cols": {
    "lenName": 16,
    "lenType": 16,
    "lenVar": 40
   },
   "kernels_config": {
    "python": {
     "delete_cmd_postfix": "",
     "delete_cmd_prefix": "del ",
     "library": "var_list.py",
     "varRefreshCmd": "print(var_dic_list())"
    },
    "r": {
     "delete_cmd_postfix": ") ",
     "delete_cmd_prefix": "rm(",
     "library": "var_list.r",
     "varRefreshCmd": "cat(var_dic_list()) "
    }
   },
   "types_to_exclude": [
    "module",
    "function",
    "builtin_function_or_method",
    "instance",
    "_Feature"
   ],
   "window_display": false
  }
 },
 "nbformat": 4,
 "nbformat_minor": 2
}
